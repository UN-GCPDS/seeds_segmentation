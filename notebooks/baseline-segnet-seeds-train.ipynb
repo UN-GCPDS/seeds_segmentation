{
 "cells": [
  {
   "cell_type": "markdown",
   "metadata": {
    "papermill": {
     "duration": 0.005963,
     "end_time": "2025-03-20T13:47:30.551852",
     "exception": false,
     "start_time": "2025-03-20T13:47:30.545889",
     "status": "completed"
    },
    "tags": []
   },
   "source": [
    "### **Descarga e importe de bibliotecas**"
   ]
  },
  {
   "cell_type": "code",
   "execution_count": 1,
   "metadata": {
    "execution": {
     "iopub.execute_input": "2025-03-30T14:45:11.863361Z",
     "iopub.status.busy": "2025-03-30T14:45:11.863063Z",
     "iopub.status.idle": "2025-03-30T14:45:21.184746Z",
     "shell.execute_reply": "2025-03-30T14:45:21.183796Z",
     "shell.execute_reply.started": "2025-03-30T14:45:11.863338Z"
    },
    "id": "SFYXdpxyL3MW",
    "papermill": {
     "duration": 7.262609,
     "end_time": "2025-03-20T13:47:37.819728",
     "exception": false,
     "start_time": "2025-03-20T13:47:30.557119",
     "status": "completed"
    },
    "tags": [],
    "trusted": true
   },
   "outputs": [],
   "source": [
    "%%capture\n",
    "!pip install git+https://github.com/qubvel/classification_models.git"
   ]
  },
  {
   "cell_type": "code",
   "execution_count": 2,
   "metadata": {
    "execution": {
     "iopub.execute_input": "2025-03-30T14:45:21.186004Z",
     "iopub.status.busy": "2025-03-30T14:45:21.185692Z",
     "iopub.status.idle": "2025-03-30T14:45:21.189744Z",
     "shell.execute_reply": "2025-03-30T14:45:21.188998Z",
     "shell.execute_reply.started": "2025-03-30T14:45:21.185976Z"
    },
    "papermill": {
     "duration": 0.010178,
     "end_time": "2025-03-20T13:47:37.835391",
     "exception": false,
     "start_time": "2025-03-20T13:47:37.825213",
     "status": "completed"
    },
    "tags": [],
    "trusted": true
   },
   "outputs": [],
   "source": [
    "import os\n",
    "os.environ[\"TF_USE_LEGACY_KERAS\"]=\"1\""
   ]
  },
  {
   "cell_type": "code",
   "execution_count": 3,
   "metadata": {
    "execution": {
     "iopub.execute_input": "2025-03-30T14:45:21.190961Z",
     "iopub.status.busy": "2025-03-30T14:45:21.190674Z",
     "iopub.status.idle": "2025-03-30T14:45:39.687552Z",
     "shell.execute_reply": "2025-03-30T14:45:39.686880Z",
     "shell.execute_reply.started": "2025-03-30T14:45:21.190935Z"
    },
    "id": "MLH79sx1CVah",
    "papermill": {
     "duration": 12.68907,
     "end_time": "2025-03-20T13:47:50.529427",
     "exception": false,
     "start_time": "2025-03-20T13:47:37.840357",
     "status": "completed"
    },
    "tags": [],
    "trusted": true
   },
   "outputs": [],
   "source": [
    "import gc\n",
    "import re\n",
    "import glob\n",
    "import random\n",
    "import shutil\n",
    "import zipfile\n",
    "import numpy as np\n",
    "from functools import partial\n",
    "import matplotlib.pyplot as plt\n",
    "\n",
    "import tensorflow as tf\n",
    "import tf_keras as keras\n",
    "import tf_keras.backend as K\n",
    "from tf_keras.losses import Loss\n",
    "from tf_keras.layers import Layer\n",
    "from tf_keras import layers, Model\n",
    "from tf_keras.optimizers import Adam\n",
    "from tf_keras.callbacks import Callback\n",
    "from tf_keras.saving import register_keras_serializable\n",
    "\n",
    "# ResUNet Model Backbone\n",
    "from classification_models.tfkeras import Classifiers  # Requires: pip install git+https://github.com/qubvel/classification_models.git"
   ]
  },
  {
   "cell_type": "markdown",
   "metadata": {
    "papermill": {
     "duration": 0.005385,
     "end_time": "2025-03-20T13:47:50.540217",
     "exception": false,
     "start_time": "2025-03-20T13:47:50.534832",
     "status": "completed"
    },
    "tags": []
   },
   "source": [
    "### **Configuración del entorno**"
   ]
  },
  {
   "cell_type": "code",
   "execution_count": 4,
   "metadata": {
    "execution": {
     "iopub.execute_input": "2025-03-30T14:45:39.690472Z",
     "iopub.status.busy": "2025-03-30T14:45:39.689972Z",
     "iopub.status.idle": "2025-03-30T14:45:39.694463Z",
     "shell.execute_reply": "2025-03-30T14:45:39.693605Z",
     "shell.execute_reply.started": "2025-03-30T14:45:39.690449Z"
    },
    "id": "1k8z_CSFCVai",
    "papermill": {
     "duration": 0.010357,
     "end_time": "2025-03-20T13:47:50.555531",
     "exception": false,
     "start_time": "2025-03-20T13:47:50.545174",
     "status": "completed"
    },
    "tags": [],
    "trusted": true
   },
   "outputs": [],
   "source": [
    "# Set a seed\n",
    "seed = 42\n",
    "\n",
    "np.random.seed(seed)\n",
    "tf.random.set_seed(seed)\n",
    "random.seed(seed)"
   ]
  },
  {
   "cell_type": "code",
   "execution_count": 5,
   "metadata": {
    "execution": {
     "iopub.execute_input": "2025-03-30T14:45:39.696110Z",
     "iopub.status.busy": "2025-03-30T14:45:39.695866Z",
     "iopub.status.idle": "2025-03-30T14:45:41.735497Z",
     "shell.execute_reply": "2025-03-30T14:45:41.734672Z",
     "shell.execute_reply.started": "2025-03-30T14:45:39.696088Z"
    },
    "papermill": {
     "duration": 0.986558,
     "end_time": "2025-03-20T13:47:51.547035",
     "exception": false,
     "start_time": "2025-03-20T13:47:50.560477",
     "status": "completed"
    },
    "tags": [],
    "trusted": true
   },
   "outputs": [
    {
     "name": "stdout",
     "output_type": "stream",
     "text": [
      "Number of devices: 2\n"
     ]
    }
   ],
   "source": [
    "# Create a distribution strategy\n",
    "strategy = tf.distribute.MirroredStrategy()\n",
    "print('Number of devices: {}'.format(strategy.num_replicas_in_sync))"
   ]
  },
  {
   "cell_type": "markdown",
   "metadata": {
    "papermill": {
     "duration": 0.004979,
     "end_time": "2025-03-20T13:47:51.557580",
     "exception": false,
     "start_time": "2025-03-20T13:47:51.552601",
     "status": "completed"
    },
    "tags": []
   },
   "source": [
    "### **Descarga y cargado de la base de datos de semillas**"
   ]
  },
  {
   "cell_type": "markdown",
   "metadata": {
    "papermill": {
     "duration": 0.004779,
     "end_time": "2025-03-20T13:47:51.567425",
     "exception": false,
     "start_time": "2025-03-20T13:47:51.562646",
     "status": "completed"
    },
    "tags": []
   },
   "source": [
    "##### **Importante definir el número de clases**"
   ]
  },
  {
   "cell_type": "code",
   "execution_count": 6,
   "metadata": {
    "execution": {
     "iopub.execute_input": "2025-03-30T14:45:41.736668Z",
     "iopub.status.busy": "2025-03-30T14:45:41.736354Z",
     "iopub.status.idle": "2025-03-30T14:45:41.740477Z",
     "shell.execute_reply": "2025-03-30T14:45:41.739604Z",
     "shell.execute_reply.started": "2025-03-30T14:45:41.736630Z"
    },
    "papermill": {
     "duration": 0.009687,
     "end_time": "2025-03-20T13:47:51.582216",
     "exception": false,
     "start_time": "2025-03-20T13:47:51.572529",
     "status": "completed"
    },
    "tags": [],
    "trusted": true
   },
   "outputs": [],
   "source": [
    "classes = 2 # Puede ser 3 para tres clases; 0-Fondo, 1-Semilla germinada, 2-Semilla no germinada, o 2 para dos clases; 0-Fondo, 1-Semilla"
   ]
  },
  {
   "cell_type": "code",
   "execution_count": 7,
   "metadata": {
    "execution": {
     "iopub.execute_input": "2025-03-30T14:45:41.741727Z",
     "iopub.status.busy": "2025-03-30T14:45:41.741485Z",
     "iopub.status.idle": "2025-03-30T14:45:58.307373Z",
     "shell.execute_reply": "2025-03-30T14:45:58.306184Z",
     "shell.execute_reply.started": "2025-03-30T14:45:41.741700Z"
    },
    "papermill": {
     "duration": 18.581486,
     "end_time": "2025-03-20T13:48:10.168779",
     "exception": false,
     "start_time": "2025-03-20T13:47:51.587293",
     "status": "completed"
    },
    "tags": [],
    "trusted": true
   },
   "outputs": [
    {
     "name": "stdout",
     "output_type": "stream",
     "text": [
      "Warning: Looks like you're using an outdated API Version, please consider updating (server 1.7.4.2 / client 1.6.17)\n",
      "Dataset URL: https://www.kaggle.com/datasets/lucasiturriago/seeds/versions/2\n",
      "License(s): CC-BY-SA-4.0\n",
      "Downloading seeds.zip to /kaggle/working\n",
      "100%|████████████████████████████████████████▉| 995M/998M [00:05<00:00, 226MB/s]\n",
      "100%|█████████████████████████████████████████| 998M/998M [00:05<00:00, 183MB/s]\n"
     ]
    }
   ],
   "source": [
    "# Download histology dataset\n",
    "classes_ = {3:1, 2:2}\n",
    "!kaggle datasets download lucasiturriago/seeds/{classes_[classes]}\n",
    "\n",
    "os.makedirs('./datasets/Seeds', exist_ok=True)\n",
    "with zipfile.ZipFile('./seeds.zip', 'r') as zip_ref: zip_ref.extractall('./datasets/Seeds')\n",
    "!rm -rf ./seeds.zip"
   ]
  },
  {
   "cell_type": "code",
   "execution_count": null,
   "metadata": {
    "execution": {
     "iopub.execute_input": "2025-03-30T14:45:58.308594Z",
     "iopub.status.busy": "2025-03-30T14:45:58.308330Z",
     "iopub.status.idle": "2025-03-30T14:45:58.312979Z",
     "shell.execute_reply": "2025-03-30T14:45:58.312136Z",
     "shell.execute_reply.started": "2025-03-30T14:45:58.308572Z"
    },
    "id": "l1NkeBQNpPxY",
    "papermill": {
     "duration": 0.013278,
     "end_time": "2025-03-20T13:48:10.190535",
     "exception": false,
     "start_time": "2025-03-20T13:48:10.177257",
     "status": "completed"
    },
    "tags": [],
    "trusted": true
   },
   "outputs": [],
   "source": [
    "config = {\"Seg_model\":\"SegNet\",\"Activation\":\"softmax\",\"Input size\":(512,512,3),\"Image size\":(512,512),\n",
    "          \"Dataset\":\"Seeds\",\"Dir of dataset\":\"./datasets/Seeds\",\"Batch size\":32,\"Epochs\":60,\"Number of classes\":classes}"
   ]
  },
  {
   "cell_type": "code",
   "execution_count": 9,
   "metadata": {
    "execution": {
     "iopub.execute_input": "2025-03-30T14:45:58.313997Z",
     "iopub.status.busy": "2025-03-30T14:45:58.313810Z",
     "iopub.status.idle": "2025-03-30T14:45:59.988995Z",
     "shell.execute_reply": "2025-03-30T14:45:59.987996Z",
     "shell.execute_reply.started": "2025-03-30T14:45:58.313981Z"
    },
    "id": "w-2YmHWRpPxY",
    "papermill": {
     "duration": 0.020864,
     "end_time": "2025-03-20T13:48:10.219632",
     "exception": false,
     "start_time": "2025-03-20T13:48:10.198768",
     "status": "completed"
    },
    "tags": [],
    "trusted": true
   },
   "outputs": [],
   "source": [
    "class DataLoader:\n",
    "\n",
    "    def __init__(self, data_dir, batch_size, image_size, num_classes, partition):\n",
    "\n",
    "        self.data_dir = data_dir\n",
    "        self.batch_size = batch_size\n",
    "        self.image_size = image_size\n",
    "        self.num_classes = num_classes\n",
    "        self.partition = partition\n",
    "\n",
    "    def load_images(self):\n",
    "\n",
    "        # Create the path for patch images\n",
    "        images_path_pattern = os.path.join(self.data_dir, self.partition, 'images', '*.png')\n",
    "        images_files = glob.glob(images_path_pattern)\n",
    "\n",
    "        # Sort patch files alphanumerically\n",
    "        def alphanumeric_key(s):\n",
    "            # Split the string into parts (numbers and text)\n",
    "            parts = re.split(r'(\\d+)', s)\n",
    "            # Convert numeric parts to integers for proper sorting\n",
    "            return [int(part) if part.isdigit() else part for part in parts]\n",
    "\n",
    "        images_files = sorted(images_files, key=alphanumeric_key)\n",
    "\n",
    "        self.file_sample = []\n",
    "        for file in images_files:\n",
    "            name_file = file.split('/')[-1]\n",
    "            self.file_sample.append(name_file)\n",
    "\n",
    "        self.num_samples = len(images_files)\n",
    "\n",
    "        # Print the complete path and the number of found patch images\n",
    "        print(f\"Complete images: {images_path_pattern}\")\n",
    "        print(f\"Number of images files found: {len(images_files)}\")\n",
    "\n",
    "        # Create a TensorFlow dataset from the images file paths\n",
    "        images_ds = tf.data.Dataset.from_tensor_slices(images_files)\n",
    "\n",
    "        # Map each file path to a processed image\n",
    "        images_ds = images_ds.map(self.process_images, num_parallel_calls=tf.data.AUTOTUNE)\n",
    "\n",
    "        return images_ds\n",
    "\n",
    "    def load_masks(self):\n",
    "\n",
    "        mask_path_main = os.path.join(self.data_dir, self.partition, 'masks')\n",
    "\n",
    "        # Check samples in classes\n",
    "        for class_id in range(self.num_classes):\n",
    "            mask_path_pattern = os.path.join(mask_path_main, f'class_{class_id}', '*.png')\n",
    "            found_masks = glob.glob(mask_path_pattern)\n",
    "            print(f\"Original masks path, class {class_id}: {mask_path_pattern}\")\n",
    "            print(f\"Number of masks found: {len(found_masks)}\")\n",
    "\n",
    "        masks_path = []\n",
    "        # Organize ground truth masks by sample and class\n",
    "        for sample in self.file_sample:\n",
    "            masks_sample = []\n",
    "            for class_id in range(self.num_classes):\n",
    "                masks_sample.append(os.path.join(mask_path_main, f'class_{class_id}', sample))\n",
    "            masks_path.append(masks_sample)\n",
    "\n",
    "        # Create dataset from `masks_path` and apply `process_masks` to each set of paths\n",
    "        masks_ds = tf.data.Dataset.from_tensor_slices(masks_path)\n",
    "        masks_ds = masks_ds.map(self.process_masks, num_parallel_calls=tf.data.AUTOTUNE)\n",
    "\n",
    "        return masks_ds\n",
    "\n",
    "    def process_images(self, file_path):\n",
    "\n",
    "        img = tf.io.read_file(file_path)  # Read the image file\n",
    "        img = tf.image.decode_png(img, channels=3)  # Decode PNG image\n",
    "        img = tf.image.resize(img, self.image_size)  # Resize image\n",
    "        img = tf.cast(img, tf.float32)  # Convert to float32\n",
    "        img /= 255.0  # Normalize to [0, 1]\n",
    "        return img\n",
    "\n",
    "    def process_masks(self, sample_paths):\n",
    "\n",
    "        # Decode and process images\n",
    "        decoded_images = tf.map_fn(\n",
    "            tf.io.read_file,\n",
    "            sample_paths,\n",
    "            dtype=tf.string,\n",
    "            parallel_iterations=4\n",
    "        )\n",
    "\n",
    "        masks = tf.map_fn(\n",
    "            lambda x: tf.io.decode_png(x, channels=1),\n",
    "            decoded_images,\n",
    "            dtype=tf.uint8,\n",
    "            parallel_iterations=4\n",
    "        )\n",
    "\n",
    "        # Resize and normalize\n",
    "        masks = tf.map_fn(\n",
    "            lambda x: tf.image.resize(x, size=self.image_size),\n",
    "            masks,\n",
    "            dtype=tf.float32\n",
    "        )\n",
    "\n",
    "        masks = tf.cast(masks, tf.float32)  # Convert to float32\n",
    "        masks = masks / 255.0  # Normalize to [0, 1]\n",
    "        masks = tf.squeeze(masks, axis=-1)  # Remove the last dimension\n",
    "        masks = tf.transpose(masks, perm=[1, 2, 0])  # Transpose to [height, width, classes]\n",
    "\n",
    "        return masks\n",
    "\n",
    "    def get_dataset(self):\n",
    "\n",
    "        images_ds = self.load_images()\n",
    "        masks_ds = self.load_masks()\n",
    "        dataset = tf.data.Dataset.zip((images_ds,masks_ds))\n",
    "\n",
    "        # Apply batching and prefetching for optimization\n",
    "        dataset = dataset.batch(self.batch_size)\n",
    "        dataset = dataset.prefetch(tf.data.AUTOTUNE)\n",
    "\n",
    "        return dataset"
   ]
  },
  {
   "cell_type": "code",
   "execution_count": 10,
   "metadata": {
    "execution": {
     "iopub.execute_input": "2025-03-30T14:45:59.990391Z",
     "iopub.status.busy": "2025-03-30T14:45:59.990065Z",
     "iopub.status.idle": "2025-03-30T14:46:02.149093Z",
     "shell.execute_reply": "2025-03-30T14:46:02.148454Z",
     "shell.execute_reply.started": "2025-03-30T14:45:59.990364Z"
    },
    "id": "9OWbGf7PCVaj",
    "outputId": "b88e2647-9ea9-4719-82c0-f4a0222d38e4",
    "papermill": {
     "duration": 0.300967,
     "end_time": "2025-03-20T13:48:10.528497",
     "exception": false,
     "start_time": "2025-03-20T13:48:10.227530",
     "status": "completed"
    },
    "tags": [],
    "trusted": true
   },
   "outputs": [
    {
     "name": "stdout",
     "output_type": "stream",
     "text": [
      "Complete images: ./datasets/Seeds/Train/images/*.png\n",
      "Number of images files found: 2458\n",
      "Original masks path, class 0: ./datasets/Seeds/Train/masks/class_0/*.png\n",
      "Number of masks found: 2458\n",
      "Original masks path, class 1: ./datasets/Seeds/Train/masks/class_1/*.png\n",
      "Number of masks found: 2458\n"
     ]
    }
   ],
   "source": [
    "# Instantiate data loader and load train partition\n",
    "data_loader = DataLoader(config['Dir of dataset'], config['Batch size'], \n",
    "                         config['Image size'], config['Number of classes'],'Train')\n",
    "train_dataset = data_loader.get_dataset()"
   ]
  },
  {
   "cell_type": "code",
   "execution_count": 11,
   "metadata": {
    "execution": {
     "iopub.execute_input": "2025-03-30T14:46:02.150271Z",
     "iopub.status.busy": "2025-03-30T14:46:02.149948Z",
     "iopub.status.idle": "2025-03-30T14:46:02.256278Z",
     "shell.execute_reply": "2025-03-30T14:46:02.255662Z",
     "shell.execute_reply.started": "2025-03-30T14:46:02.150223Z"
    },
    "id": "8zG-NuLWCVak",
    "outputId": "cfb53e2a-b6c0-461f-e47f-3f77ae87a1ce",
    "papermill": {
     "duration": 0.118717,
     "end_time": "2025-03-20T13:48:10.655408",
     "exception": false,
     "start_time": "2025-03-20T13:48:10.536691",
     "status": "completed"
    },
    "tags": [],
    "trusted": true
   },
   "outputs": [
    {
     "name": "stdout",
     "output_type": "stream",
     "text": [
      "Complete images: ./datasets/Seeds/Valid/images/*.png\n",
      "Number of images files found: 231\n",
      "Original masks path, class 0: ./datasets/Seeds/Valid/masks/class_0/*.png\n",
      "Number of masks found: 231\n",
      "Original masks path, class 1: ./datasets/Seeds/Valid/masks/class_1/*.png\n",
      "Number of masks found: 231\n"
     ]
    }
   ],
   "source": [
    "# Instantiate data loader and load validation partition\n",
    "data_loader = DataLoader(config['Dir of dataset'], config['Batch size'], \n",
    "                         config['Image size'], config['Number of classes'],'Valid')\n",
    "valid_dataset = data_loader.get_dataset()"
   ]
  },
  {
   "cell_type": "code",
   "execution_count": 12,
   "metadata": {
    "execution": {
     "iopub.execute_input": "2025-03-30T14:46:02.257359Z",
     "iopub.status.busy": "2025-03-30T14:46:02.257042Z",
     "iopub.status.idle": "2025-03-30T14:46:02.361261Z",
     "shell.execute_reply": "2025-03-30T14:46:02.360453Z",
     "shell.execute_reply.started": "2025-03-30T14:46:02.257329Z"
    },
    "id": "i2H2KXglCVak",
    "outputId": "8cd2eab3-9b36-4d52-ecfa-8b3285f6149a",
    "papermill": {
     "duration": 0.143078,
     "end_time": "2025-03-20T13:48:10.807895",
     "exception": false,
     "start_time": "2025-03-20T13:48:10.664817",
     "status": "completed"
    },
    "tags": [],
    "trusted": true
   },
   "outputs": [
    {
     "name": "stdout",
     "output_type": "stream",
     "text": [
      "Complete images: ./datasets/Seeds/Test/images/*.png\n",
      "Number of images files found: 118\n",
      "Original masks path, class 0: ./datasets/Seeds/Test/masks/class_0/*.png\n",
      "Number of masks found: 118\n",
      "Original masks path, class 1: ./datasets/Seeds/Test/masks/class_1/*.png\n",
      "Number of masks found: 118\n"
     ]
    }
   ],
   "source": [
    "# Instantiate data loader and load test partition\n",
    "data_loader = DataLoader(config['Dir of dataset'], config['Batch size'], \n",
    "                         config['Image size'], config['Number of classes'],'Test')\n",
    "test_dataset = data_loader.get_dataset()"
   ]
  },
  {
   "cell_type": "markdown",
   "metadata": {
    "papermill": {
     "duration": 0.007866,
     "end_time": "2025-03-20T13:48:10.824544",
     "exception": false,
     "start_time": "2025-03-20T13:48:10.816678",
     "status": "completed"
    },
    "tags": []
   },
   "source": [
    "#### **Visualización de la base de datos de semillas**"
   ]
  },
  {
   "cell_type": "code",
   "execution_count": 13,
   "metadata": {
    "execution": {
     "iopub.execute_input": "2025-03-30T14:46:02.364300Z",
     "iopub.status.busy": "2025-03-30T14:46:02.364057Z",
     "iopub.status.idle": "2025-03-30T14:46:02.372092Z",
     "shell.execute_reply": "2025-03-30T14:46:02.371121Z",
     "shell.execute_reply.started": "2025-03-30T14:46:02.364280Z"
    },
    "id": "kditJc0cpPxa",
    "papermill": {
     "duration": 0.017218,
     "end_time": "2025-03-20T13:48:10.849552",
     "exception": false,
     "start_time": "2025-03-20T13:48:10.832334",
     "status": "completed"
    },
    "tags": [],
    "trusted": true
   },
   "outputs": [],
   "source": [
    "def random_sample_visualization(dataset, num_classes):\n",
    "\n",
    "    # Select first batch\n",
    "    batch = 0\n",
    "\n",
    "    # Skip to the desired batch and take one batch\n",
    "    for images, masks in dataset.skip(batch).take(1):\n",
    "        print(f\"Images in the batch: {images.shape}, Masks in the batch: {masks.shape}\")\n",
    "\n",
    "    # Select a random sample within the batch\n",
    "    sample = random.randint(0, images.shape[0]-1)\n",
    "\n",
    "    # Determine the number of columns for the visualization grid\n",
    "    columns = []\n",
    "    rows = 2\n",
    "\n",
    "    columns.append(masks.shape[-1] if masks.shape[-1] <= 6 else 6)\n",
    "\n",
    "    columns = max(columns)\n",
    "\n",
    "    fig = plt.figure(figsize=(20, 12))\n",
    "    \n",
    "    gs = fig.add_gridspec(rows + 1, columns, hspace=0.2, wspace=-0.6)\n",
    "    axes = [[fig.add_subplot(gs[r, c]) for c in range(columns)] for r in range(rows)]\n",
    "\n",
    "    # Display the original image for the selected sample\n",
    "    axes[0][0].set_title('Image',loc='center')\n",
    "    axes[0][0].imshow(images[sample])  # Show the sample image\n",
    "\n",
    "    title_ax = fig.add_subplot(gs[rows-1, :])\n",
    "    title_ax.set_title(\"Masks of segmentation for different classes\",loc='left')\n",
    "    title_ax.axis('off')  # Ocultar ejes\n",
    "\n",
    "    classes_list = []\n",
    "    while len(classes_list) < min(num_classes,columns):\n",
    "        num = random.randint(0, num_classes-1)\n",
    "        if num not in classes_list:\n",
    "            classes_list.append(num)\n",
    "\n",
    "    for i in range(len(classes_list)):\n",
    "        axes[rows-1][i].imshow(masks[sample, :, :, classes_list[i]:classes_list[i]+1])\n",
    "\n",
    "    [ax.axis('off') for row in axes for ax in row]\n",
    "\n",
    "    # Adjust layout for better spacing\n",
    "    fig.tight_layout()\n",
    "\n",
    "    # Display the visualization\n",
    "    plt.show()\n",
    "\n",
    "    # Free memory\n",
    "    del images, masks # Delete large variables\n",
    "    if 'annotators_list' in locals():\n",
    "        del annotators_list\n",
    "    if 'classes_list' in locals():\n",
    "        del classes_list\n",
    "    gc.collect() # Force garbage collection"
   ]
  },
  {
   "cell_type": "code",
   "execution_count": 14,
   "metadata": {
    "execution": {
     "iopub.execute_input": "2025-03-30T14:46:02.373673Z",
     "iopub.status.busy": "2025-03-30T14:46:02.373310Z",
     "iopub.status.idle": "2025-03-30T14:46:03.837539Z",
     "shell.execute_reply": "2025-03-30T14:46:03.836706Z",
     "shell.execute_reply.started": "2025-03-30T14:46:02.373653Z"
    },
    "id": "hXCkIf5-pPxa",
    "outputId": "b6d56e01-eed0-40ec-e78b-4049f97cc4f5",
    "papermill": {
     "duration": 1.243084,
     "end_time": "2025-03-20T13:48:12.100666",
     "exception": false,
     "start_time": "2025-03-20T13:48:10.857582",
     "status": "completed"
    },
    "tags": [],
    "trusted": true
   },
   "outputs": [
    {
     "name": "stdout",
     "output_type": "stream",
     "text": [
      "Images in the batch: (32, 512, 512, 3), Masks in the batch: (32, 512, 512, 2)\n"
     ]
    },
    {
     "name": "stderr",
     "output_type": "stream",
     "text": [
      "<ipython-input-13-bf66a0e7f52d>:46: UserWarning: This figure includes Axes that are not compatible with tight_layout, so results might be incorrect.\n",
      "  fig.tight_layout()\n"
     ]
    },
    {
     "data": {
      "image/png": "[encoded data removed]",
      "text/plain": [
       "<Figure size 2000x1200 with 5 Axes>"
      ]
     },
     "metadata": {},
     "output_type": "display_data"
    }
   ],
   "source": [
    "random_sample_visualization(train_dataset, config['Number of classes'])"
   ]
  },
  {
   "cell_type": "markdown",
   "metadata": {
    "papermill": {
     "duration": 0.010695,
     "end_time": "2025-03-20T13:48:12.122820",
     "exception": false,
     "start_time": "2025-03-20T13:48:12.112125",
     "status": "completed"
    },
    "tags": []
   },
   "source": [
    "### **Definición y creación del modelo, medidas de rendimiento y función de pérdida**"
   ]
  },
  {
   "cell_type": "code",
   "execution_count": 15,
   "metadata": {
    "execution": {
     "iopub.execute_input": "2025-03-30T14:46:03.838768Z",
     "iopub.status.busy": "2025-03-30T14:46:03.838458Z",
     "iopub.status.idle": "2025-03-30T14:46:10.813268Z",
     "shell.execute_reply": "2025-03-30T14:46:10.811828Z",
     "shell.execute_reply.started": "2025-03-30T14:46:03.838739Z"
    },
    "trusted": true
   },
   "outputs": [
    {
     "name": "stdout",
     "output_type": "stream",
     "text": [
      "  Preparing metadata (setup.py) ... \u001b[?25l\u001b[?25hdone\n",
      "  Building wheel for seeds_segmentation (setup.py) ... \u001b[?25l\u001b[?25hdone\n",
      "Note: you may need to restart the kernel to use updated packages.\n"
     ]
    }
   ],
   "source": [
    "pip install git+https://github.com/UN-GCPDS/seeds_segmentation.git --quiet"
   ]
  },
  {
   "cell_type": "code",
   "execution_count": 19,
   "metadata": {
    "execution": {
     "iopub.execute_input": "2025-03-30T14:49:52.403114Z",
     "iopub.status.busy": "2025-03-30T14:49:52.402746Z",
     "iopub.status.idle": "2025-03-30T14:49:52.419403Z",
     "shell.execute_reply": "2025-03-30T14:49:52.418512Z",
     "shell.execute_reply.started": "2025-03-30T14:49:52.403080Z"
    },
    "id": "ZEZWBe0l5b0Q",
    "papermill": {
     "duration": 0.047011,
     "end_time": "2025-03-20T13:48:12.180810",
     "exception": false,
     "start_time": "2025-03-20T13:48:12.133799",
     "status": "completed"
    },
    "tags": [],
    "trusted": true
   },
   "outputs": [],
   "source": [
    "from seeds_segmentation import unet_baseline, fcn_baseline, segnet_baseline, res_unet_baseline\n",
    "from seeds_segmentation.losses import DiceCoefficient \n",
    "from seeds_segmentation.metrics import DiceCoefficientMetric, Jaccard, Sensitivity, Specificity\n",
    "\n",
    "@register_keras_serializable(package=\"my_custom_metrics\")\n",
    "def dice_metric(y_true, y_pred, smooth=1e-7, axis=(1, 2), return_mean=True):\n",
    "    y_true = tf.cast(y_true, tf.float32)\n",
    "    y_true = tf.where(y_true > 0.5, 1.0, 0.0)\n",
    "    y_pred = tf.cast(y_pred, tf.float32)\n",
    "    y_pred = tf.where(y_pred > 0.5, 1.0, 0.0)\n",
    "    intersection = tf.reduce_sum(y_true * y_pred, axis=axis)\n",
    "    union = tf.reduce_sum(y_true, axis=axis) + tf.reduce_sum(y_pred, axis=axis)\n",
    "    dice = (2. * intersection + smooth) / (union + smooth)\n",
    "\n",
    "    if return_mean:\n",
    "        return tf.reduce_mean(dice)\n",
    "    else:\n",
    "        # For multi-class segmentation, handle the class dimension correctly\n",
    "        # The shape of dice is [batch_size, num_classes]\n",
    "        # Return without squeezing if there are multiple classes\n",
    "        if dice.shape[1] > 1:\n",
    "            return tf.transpose(dice, perm=[1, 0])  # Shape: [num_classes, batch_size]\n",
    "        else:\n",
    "            return tf.squeeze(tf.transpose(dice, perm=[1, 0]), axis=0)\n",
    "            \n",
    "@register_keras_serializable(package=\"my_custom_metrics\")\n",
    "def jaccard_metric(y_true, y_pred, axis=(1, 2), smooth=1e-7, return_mean=True):\n",
    "    y_true = tf.cast(y_true, tf.float32)\n",
    "    y_true = tf.where(y_true > 0.5, 1.0, 0.0)\n",
    "    y_pred = tf.cast(y_pred, tf.float32)\n",
    "    y_pred = tf.where(y_pred > 0.5, 1.0, 0.0)\n",
    "    intersection = tf.reduce_sum(y_true * y_pred, axis=axis)\n",
    "    union = tf.reduce_sum(y_true, axis=axis) + tf.reduce_sum(y_pred, axis=axis) - intersection\n",
    "    jaccard = (intersection + smooth) / (union + smooth)\n",
    "    if return_mean:\n",
    "        return tf.reduce_mean(jaccard)\n",
    "    else:\n",
    "        # For multi-class segmentation, handle the class dimension correctly\n",
    "        # The shape of dice is [batch_size, num_classes]\n",
    "        # Return without squeezing if there are multiple classes\n",
    "        if jaccard.shape[1] > 1:\n",
    "            return tf.transpose(jaccard, perm=[1, 0])  # Shape: [num_classes, batch_size]\n",
    "        else:\n",
    "            return tf.squeeze(tf.transpose(jaccard, perm=[1, 0]), axis=0)\n",
    "\n",
    "@register_keras_serializable(package=\"my_custom_metrics\")\n",
    "def sensitivity_metric(y_true, y_pred, axis=(1, 2), smooth=1e-7, return_mean=True):\n",
    "    y_true = tf.cast(y_true, tf.float32)\n",
    "    y_true = tf.where(y_true > 0.5, 1.0, 0.0)\n",
    "    y_pred = tf.cast(y_pred, tf.float32)\n",
    "    y_pred = tf.where(y_pred > 0.5, 1.0, 0.0)\n",
    "    true_positives = tf.reduce_sum(y_true * y_pred, axis=axis)\n",
    "    actual_positives = tf.reduce_sum(y_true, axis=axis)\n",
    "    sensitivity = true_positives / (actual_positives + smooth)\n",
    "    if return_mean:\n",
    "        return tf.reduce_mean(sensitivity)\n",
    "    else:\n",
    "        # For multi-class segmentation, handle the class dimension correctly\n",
    "        # The shape of dice is [batch_size, num_classes]\n",
    "        # Return without squeezing if there are multiple classes\n",
    "        if sensitivity.shape[1] > 1:\n",
    "            return tf.transpose(sensitivity, perm=[1, 0])  # Shape: [num_classes, batch_size]\n",
    "        else:\n",
    "            return tf.squeeze(tf.transpose(sensitivity, perm=[1, 0]), axis=0)\n",
    "\n",
    "@register_keras_serializable(package=\"my_custom_metrics\")\n",
    "def specificity_metric(y_true, y_pred, axis=(1, 2), smooth=1e-7, return_mean=True):\n",
    "    y_true = tf.cast(y_true, tf.float32)\n",
    "    y_true = tf.where(y_true > 0.5, 1.0, 0.0)\n",
    "    y_pred = tf.cast(y_pred, tf.float32)\n",
    "    y_pred = tf.where(y_pred > 0.5, 1.0, 0.0)\n",
    "    true_negatives = tf.reduce_sum((1 - y_true) * (1 - y_pred), axis=axis)\n",
    "    actual_negatives = tf.reduce_sum(1 - y_true, axis=axis)\n",
    "    specificity = true_negatives / (actual_negatives + tf.keras.backend.epsilon())\n",
    "    if return_mean:\n",
    "        return tf.reduce_mean(specificity)\n",
    "    else:\n",
    "        # For multi-class segmentation, handle the class dimension correctly\n",
    "        # The shape of dice is [batch_size, num_classes]\n",
    "        # Return without squeezing if there are multiple classes\n",
    "        if specificity.shape[1] > 1:\n",
    "            return tf.transpose(specificity, perm=[1, 0])  # Shape: [num_classes, batch_size]\n",
    "        else:\n",
    "            return tf.squeeze(tf.transpose(specificity, perm=[1, 0]), axis=0)\n",
    "            \n",
    "@register_keras_serializable(package=\"my_custom_activations\")\n",
    "def sparse_softmax(x):\n",
    "    \n",
    "    e_x = tf.exp(x - tf.reduce_max(x, axis=-1, keepdims=True))\n",
    "    sum_e_x = tf.reduce_sum(e_x, axis=-1, keepdims=True)\n",
    "    output = e_x / (sum_e_x + keras.backend.epsilon())\n",
    "    return output"
   ]
  },
  {
   "cell_type": "code",
   "execution_count": null,
   "metadata": {
    "execution": {
     "iopub.execute_input": "2025-03-30T14:53:06.417487Z",
     "iopub.status.busy": "2025-03-30T14:53:06.417175Z",
     "iopub.status.idle": "2025-03-30T14:53:08.444028Z",
     "shell.execute_reply": "2025-03-30T14:53:08.443372Z",
     "shell.execute_reply.started": "2025-03-30T14:53:06.417465Z"
    },
    "id": "8abtl5fwCVam",
    "outputId": "184ade9b-2897-4401-db91-0f1020dc3714",
    "papermill": {
     "duration": 1.013119,
     "end_time": "2025-03-20T13:48:13.204705",
     "exception": false,
     "start_time": "2025-03-20T13:48:12.191586",
     "status": "completed"
    },
    "tags": [],
    "trusted": true
   },
   "outputs": [],
   "source": [
    "with strategy.scope():\n",
    "    model = segnet_baseline(input_shape=config['Input size'], out_channels=config['Number of classes'], out_ActFunction=config['Activation'])\n",
    "    model.compile(optimizer=keras.optimizers.Adam(learning_rate=1e-4),\n",
    "                  loss=DiceCoefficient(smooth=1e-7, target_class=None if config['Number of classes'] == 3 else 1),\n",
    "                  metrics=[dice_metric,jaccard_metric,sensitivity_metric,specificity_metric])"
   ]
  },
  {
   "cell_type": "markdown",
   "metadata": {
    "papermill": {
     "duration": 0.010985,
     "end_time": "2025-03-20T13:48:13.227329",
     "exception": false,
     "start_time": "2025-03-20T13:48:13.216344",
     "status": "completed"
    },
    "tags": []
   },
   "source": [
    "### **Entrenamiento de la base de datos**"
   ]
  },
  {
   "cell_type": "code",
   "execution_count": 21,
   "metadata": {
    "execution": {
     "iopub.execute_input": "2025-03-30T14:50:04.635396Z",
     "iopub.status.busy": "2025-03-30T14:50:04.635055Z",
     "iopub.status.idle": "2025-03-30T14:51:51.844096Z",
     "shell.execute_reply": "2025-03-30T14:51:51.842632Z",
     "shell.execute_reply.started": "2025-03-30T14:50:04.635368Z"
    },
    "papermill": {
     "duration": 4097.573801,
     "end_time": "2025-03-20T14:56:30.811948",
     "exception": false,
     "start_time": "2025-03-20T13:48:13.238147",
     "status": "completed"
    },
    "tags": [],
    "trusted": true
   },
   "outputs": [
    {
     "name": "stdout",
     "output_type": "stream",
     "text": [
      "Epoch 1/60\n",
      "52/77 [===================>..........] - ETA: 21s - loss: -0.1014 - dice_metric: 0.3075 - jaccard_metric: 0.2009 - sensitivity_metric: 0.5761 - specificity_metric: 0.5761"
     ]
    },
    {
     "ename": "KeyboardInterrupt",
     "evalue": "",
     "output_type": "error",
     "traceback": [
      "\u001b[0;31m---------------------------------------------------------------------------\u001b[0m",
      "\u001b[0;31mKeyboardInterrupt\u001b[0m                         Traceback (most recent call last)",
      "\u001b[0;32m<ipython-input-21-b08486286d3a>\u001b[0m in \u001b[0;36m<cell line: 13>\u001b[0;34m()\u001b[0m\n\u001b[1;32m     11\u001b[0m \u001b[0;34m\u001b[0m\u001b[0m\n\u001b[1;32m     12\u001b[0m \u001b[0mlr_scheduler\u001b[0m \u001b[0;34m=\u001b[0m \u001b[0mCustomLearningRateScheduler\u001b[0m\u001b[0;34m(\u001b[0m\u001b[0;36m1e-5\u001b[0m\u001b[0;34m,\u001b[0m \u001b[0;36m30\u001b[0m\u001b[0;34m)\u001b[0m\u001b[0;34m\u001b[0m\u001b[0;34m\u001b[0m\u001b[0m\n\u001b[0;32m---> 13\u001b[0;31m \u001b[0mhistory\u001b[0m \u001b[0;34m=\u001b[0m \u001b[0mmodel\u001b[0m\u001b[0;34m.\u001b[0m\u001b[0mfit\u001b[0m\u001b[0;34m(\u001b[0m\u001b[0mtrain_dataset\u001b[0m\u001b[0;34m,\u001b[0m \u001b[0mepochs\u001b[0m\u001b[0;34m=\u001b[0m\u001b[0mconfig\u001b[0m\u001b[0;34m[\u001b[0m\u001b[0;34m'Epochs'\u001b[0m\u001b[0;34m]\u001b[0m\u001b[0;34m,\u001b[0m \u001b[0mvalidation_data\u001b[0m\u001b[0;34m=\u001b[0m\u001b[0;34m(\u001b[0m\u001b[0mvalid_dataset\u001b[0m\u001b[0;34m)\u001b[0m\u001b[0;34m,\u001b[0m \u001b[0mcallbacks\u001b[0m\u001b[0;34m=\u001b[0m\u001b[0;34m[\u001b[0m\u001b[0mlr_scheduler\u001b[0m\u001b[0;34m]\u001b[0m\u001b[0;34m)\u001b[0m\u001b[0;34m\u001b[0m\u001b[0;34m\u001b[0m\u001b[0m\n\u001b[0m",
      "\u001b[0;32m/usr/local/lib/python3.10/dist-packages/tf_keras/src/utils/traceback_utils.py\u001b[0m in \u001b[0;36merror_handler\u001b[0;34m(*args, **kwargs)\u001b[0m\n\u001b[1;32m     63\u001b[0m         \u001b[0mfiltered_tb\u001b[0m \u001b[0;34m=\u001b[0m \u001b[0;32mNone\u001b[0m\u001b[0;34m\u001b[0m\u001b[0;34m\u001b[0m\u001b[0m\n\u001b[1;32m     64\u001b[0m         \u001b[0;32mtry\u001b[0m\u001b[0;34m:\u001b[0m\u001b[0;34m\u001b[0m\u001b[0;34m\u001b[0m\u001b[0m\n\u001b[0;32m---> 65\u001b[0;31m             \u001b[0;32mreturn\u001b[0m \u001b[0mfn\u001b[0m\u001b[0;34m(\u001b[0m\u001b[0;34m*\u001b[0m\u001b[0margs\u001b[0m\u001b[0;34m,\u001b[0m \u001b[0;34m**\u001b[0m\u001b[0mkwargs\u001b[0m\u001b[0;34m)\u001b[0m\u001b[0;34m\u001b[0m\u001b[0;34m\u001b[0m\u001b[0m\n\u001b[0m\u001b[1;32m     66\u001b[0m         \u001b[0;32mexcept\u001b[0m \u001b[0mException\u001b[0m \u001b[0;32mas\u001b[0m \u001b[0me\u001b[0m\u001b[0;34m:\u001b[0m\u001b[0;34m\u001b[0m\u001b[0;34m\u001b[0m\u001b[0m\n\u001b[1;32m     67\u001b[0m             \u001b[0mfiltered_tb\u001b[0m \u001b[0;34m=\u001b[0m \u001b[0m_process_traceback_frames\u001b[0m\u001b[0;34m(\u001b[0m\u001b[0me\u001b[0m\u001b[0;34m.\u001b[0m\u001b[0m__traceback__\u001b[0m\u001b[0;34m)\u001b[0m\u001b[0;34m\u001b[0m\u001b[0;34m\u001b[0m\u001b[0m\n",
      "\u001b[0;32m/usr/local/lib/python3.10/dist-packages/tf_keras/src/engine/training.py\u001b[0m in \u001b[0;36mfit\u001b[0;34m(self, x, y, batch_size, epochs, verbose, callbacks, validation_split, validation_data, shuffle, class_weight, sample_weight, initial_epoch, steps_per_epoch, validation_steps, validation_batch_size, validation_freq, max_queue_size, workers, use_multiprocessing)\u001b[0m\n\u001b[1;32m   1802\u001b[0m                         ):\n\u001b[1;32m   1803\u001b[0m                             \u001b[0mcallbacks\u001b[0m\u001b[0;34m.\u001b[0m\u001b[0mon_train_batch_begin\u001b[0m\u001b[0;34m(\u001b[0m\u001b[0mstep\u001b[0m\u001b[0;34m)\u001b[0m\u001b[0;34m\u001b[0m\u001b[0;34m\u001b[0m\u001b[0m\n\u001b[0;32m-> 1804\u001b[0;31m                             \u001b[0mtmp_logs\u001b[0m \u001b[0;34m=\u001b[0m \u001b[0mself\u001b[0m\u001b[0;34m.\u001b[0m\u001b[0mtrain_function\u001b[0m\u001b[0;34m(\u001b[0m\u001b[0miterator\u001b[0m\u001b[0;34m)\u001b[0m\u001b[0;34m\u001b[0m\u001b[0;34m\u001b[0m\u001b[0m\n\u001b[0m\u001b[1;32m   1805\u001b[0m                             \u001b[0;32mif\u001b[0m \u001b[0mdata_handler\u001b[0m\u001b[0;34m.\u001b[0m\u001b[0mshould_sync\u001b[0m\u001b[0;34m:\u001b[0m\u001b[0;34m\u001b[0m\u001b[0;34m\u001b[0m\u001b[0m\n\u001b[1;32m   1806\u001b[0m                                 \u001b[0mcontext\u001b[0m\u001b[0;34m.\u001b[0m\u001b[0masync_wait\u001b[0m\u001b[0;34m(\u001b[0m\u001b[0;34m)\u001b[0m\u001b[0;34m\u001b[0m\u001b[0;34m\u001b[0m\u001b[0m\n",
      "\u001b[0;32m/usr/local/lib/python3.10/dist-packages/tensorflow/python/util/traceback_utils.py\u001b[0m in \u001b[0;36merror_handler\u001b[0;34m(*args, **kwargs)\u001b[0m\n\u001b[1;32m    148\u001b[0m     \u001b[0mfiltered_tb\u001b[0m \u001b[0;34m=\u001b[0m \u001b[0;32mNone\u001b[0m\u001b[0;34m\u001b[0m\u001b[0;34m\u001b[0m\u001b[0m\n\u001b[1;32m    149\u001b[0m     \u001b[0;32mtry\u001b[0m\u001b[0;34m:\u001b[0m\u001b[0;34m\u001b[0m\u001b[0;34m\u001b[0m\u001b[0m\n\u001b[0;32m--> 150\u001b[0;31m       \u001b[0;32mreturn\u001b[0m \u001b[0mfn\u001b[0m\u001b[0;34m(\u001b[0m\u001b[0;34m*\u001b[0m\u001b[0margs\u001b[0m\u001b[0;34m,\u001b[0m \u001b[0;34m**\u001b[0m\u001b[0mkwargs\u001b[0m\u001b[0;34m)\u001b[0m\u001b[0;34m\u001b[0m\u001b[0;34m\u001b[0m\u001b[0m\n\u001b[0m\u001b[1;32m    151\u001b[0m     \u001b[0;32mexcept\u001b[0m \u001b[0mException\u001b[0m \u001b[0;32mas\u001b[0m \u001b[0me\u001b[0m\u001b[0;34m:\u001b[0m\u001b[0;34m\u001b[0m\u001b[0;34m\u001b[0m\u001b[0m\n\u001b[1;32m    152\u001b[0m       \u001b[0mfiltered_tb\u001b[0m \u001b[0;34m=\u001b[0m \u001b[0m_process_traceback_frames\u001b[0m\u001b[0;34m(\u001b[0m\u001b[0me\u001b[0m\u001b[0;34m.\u001b[0m\u001b[0m__traceback__\u001b[0m\u001b[0;34m)\u001b[0m\u001b[0;34m\u001b[0m\u001b[0;34m\u001b[0m\u001b[0m\n",
      "\u001b[0;32m/usr/local/lib/python3.10/dist-packages/tensorflow/python/eager/polymorphic_function/polymorphic_function.py\u001b[0m in \u001b[0;36m__call__\u001b[0;34m(self, *args, **kwds)\u001b[0m\n\u001b[1;32m    831\u001b[0m \u001b[0;34m\u001b[0m\u001b[0m\n\u001b[1;32m    832\u001b[0m       \u001b[0;32mwith\u001b[0m \u001b[0mOptionalXlaContext\u001b[0m\u001b[0;34m(\u001b[0m\u001b[0mself\u001b[0m\u001b[0;34m.\u001b[0m\u001b[0m_jit_compile\u001b[0m\u001b[0;34m)\u001b[0m\u001b[0;34m:\u001b[0m\u001b[0;34m\u001b[0m\u001b[0;34m\u001b[0m\u001b[0m\n\u001b[0;32m--> 833\u001b[0;31m         \u001b[0mresult\u001b[0m \u001b[0;34m=\u001b[0m \u001b[0mself\u001b[0m\u001b[0;34m.\u001b[0m\u001b[0m_call\u001b[0m\u001b[0;34m(\u001b[0m\u001b[0;34m*\u001b[0m\u001b[0margs\u001b[0m\u001b[0;34m,\u001b[0m \u001b[0;34m**\u001b[0m\u001b[0mkwds\u001b[0m\u001b[0;34m)\u001b[0m\u001b[0;34m\u001b[0m\u001b[0;34m\u001b[0m\u001b[0m\n\u001b[0m\u001b[1;32m    834\u001b[0m \u001b[0;34m\u001b[0m\u001b[0m\n\u001b[1;32m    835\u001b[0m       \u001b[0mnew_tracing_count\u001b[0m \u001b[0;34m=\u001b[0m \u001b[0mself\u001b[0m\u001b[0;34m.\u001b[0m\u001b[0mexperimental_get_tracing_count\u001b[0m\u001b[0;34m(\u001b[0m\u001b[0;34m)\u001b[0m\u001b[0;34m\u001b[0m\u001b[0;34m\u001b[0m\u001b[0m\n",
      "\u001b[0;32m/usr/local/lib/python3.10/dist-packages/tensorflow/python/eager/polymorphic_function/polymorphic_function.py\u001b[0m in \u001b[0;36m_call\u001b[0;34m(self, *args, **kwds)\u001b[0m\n\u001b[1;32m    867\u001b[0m       \u001b[0;31m# In this case we have created variables on the first call, so we run the\u001b[0m\u001b[0;34m\u001b[0m\u001b[0;34m\u001b[0m\u001b[0m\n\u001b[1;32m    868\u001b[0m       \u001b[0;31m# defunned version which is guaranteed to never create variables.\u001b[0m\u001b[0;34m\u001b[0m\u001b[0;34m\u001b[0m\u001b[0m\n\u001b[0;32m--> 869\u001b[0;31m       return tracing_compilation.call_function(\n\u001b[0m\u001b[1;32m    870\u001b[0m           \u001b[0margs\u001b[0m\u001b[0;34m,\u001b[0m \u001b[0mkwds\u001b[0m\u001b[0;34m,\u001b[0m \u001b[0mself\u001b[0m\u001b[0;34m.\u001b[0m\u001b[0m_no_variable_creation_config\u001b[0m\u001b[0;34m\u001b[0m\u001b[0;34m\u001b[0m\u001b[0m\n\u001b[1;32m    871\u001b[0m       )\n",
      "\u001b[0;32m/usr/local/lib/python3.10/dist-packages/tensorflow/python/eager/polymorphic_function/tracing_compilation.py\u001b[0m in \u001b[0;36mcall_function\u001b[0;34m(args, kwargs, tracing_options)\u001b[0m\n\u001b[1;32m    137\u001b[0m   \u001b[0mbound_args\u001b[0m \u001b[0;34m=\u001b[0m \u001b[0mfunction\u001b[0m\u001b[0;34m.\u001b[0m\u001b[0mfunction_type\u001b[0m\u001b[0;34m.\u001b[0m\u001b[0mbind\u001b[0m\u001b[0;34m(\u001b[0m\u001b[0;34m*\u001b[0m\u001b[0margs\u001b[0m\u001b[0;34m,\u001b[0m \u001b[0;34m**\u001b[0m\u001b[0mkwargs\u001b[0m\u001b[0;34m)\u001b[0m\u001b[0;34m\u001b[0m\u001b[0;34m\u001b[0m\u001b[0m\n\u001b[1;32m    138\u001b[0m   \u001b[0mflat_inputs\u001b[0m \u001b[0;34m=\u001b[0m \u001b[0mfunction\u001b[0m\u001b[0;34m.\u001b[0m\u001b[0mfunction_type\u001b[0m\u001b[0;34m.\u001b[0m\u001b[0munpack_inputs\u001b[0m\u001b[0;34m(\u001b[0m\u001b[0mbound_args\u001b[0m\u001b[0;34m)\u001b[0m\u001b[0;34m\u001b[0m\u001b[0;34m\u001b[0m\u001b[0m\n\u001b[0;32m--> 139\u001b[0;31m   return function._call_flat(  # pylint: disable=protected-access\n\u001b[0m\u001b[1;32m    140\u001b[0m       \u001b[0mflat_inputs\u001b[0m\u001b[0;34m,\u001b[0m \u001b[0mcaptured_inputs\u001b[0m\u001b[0;34m=\u001b[0m\u001b[0mfunction\u001b[0m\u001b[0;34m.\u001b[0m\u001b[0mcaptured_inputs\u001b[0m\u001b[0;34m\u001b[0m\u001b[0;34m\u001b[0m\u001b[0m\n\u001b[1;32m    141\u001b[0m   )\n",
      "\u001b[0;32m/usr/local/lib/python3.10/dist-packages/tensorflow/python/eager/polymorphic_function/concrete_function.py\u001b[0m in \u001b[0;36m_call_flat\u001b[0;34m(self, tensor_inputs, captured_inputs)\u001b[0m\n\u001b[1;32m   1320\u001b[0m         and executing_eagerly):\n\u001b[1;32m   1321\u001b[0m       \u001b[0;31m# No tape is watching; skip to running the function.\u001b[0m\u001b[0;34m\u001b[0m\u001b[0;34m\u001b[0m\u001b[0m\n\u001b[0;32m-> 1322\u001b[0;31m       \u001b[0;32mreturn\u001b[0m \u001b[0mself\u001b[0m\u001b[0;34m.\u001b[0m\u001b[0m_inference_function\u001b[0m\u001b[0;34m.\u001b[0m\u001b[0mcall_preflattened\u001b[0m\u001b[0;34m(\u001b[0m\u001b[0margs\u001b[0m\u001b[0;34m)\u001b[0m\u001b[0;34m\u001b[0m\u001b[0;34m\u001b[0m\u001b[0m\n\u001b[0m\u001b[1;32m   1323\u001b[0m     forward_backward = self._select_forward_and_backward_functions(\n\u001b[1;32m   1324\u001b[0m         \u001b[0margs\u001b[0m\u001b[0;34m,\u001b[0m\u001b[0;34m\u001b[0m\u001b[0;34m\u001b[0m\u001b[0m\n",
      "\u001b[0;32m/usr/local/lib/python3.10/dist-packages/tensorflow/python/eager/polymorphic_function/atomic_function.py\u001b[0m in \u001b[0;36mcall_preflattened\u001b[0;34m(self, args)\u001b[0m\n\u001b[1;32m    214\u001b[0m   \u001b[0;32mdef\u001b[0m \u001b[0mcall_preflattened\u001b[0m\u001b[0;34m(\u001b[0m\u001b[0mself\u001b[0m\u001b[0;34m,\u001b[0m \u001b[0margs\u001b[0m\u001b[0;34m:\u001b[0m \u001b[0mSequence\u001b[0m\u001b[0;34m[\u001b[0m\u001b[0mcore\u001b[0m\u001b[0;34m.\u001b[0m\u001b[0mTensor\u001b[0m\u001b[0;34m]\u001b[0m\u001b[0;34m)\u001b[0m \u001b[0;34m->\u001b[0m \u001b[0mAny\u001b[0m\u001b[0;34m:\u001b[0m\u001b[0;34m\u001b[0m\u001b[0;34m\u001b[0m\u001b[0m\n\u001b[1;32m    215\u001b[0m     \u001b[0;34m\"\"\"Calls with flattened tensor inputs and returns the structured output.\"\"\"\u001b[0m\u001b[0;34m\u001b[0m\u001b[0;34m\u001b[0m\u001b[0m\n\u001b[0;32m--> 216\u001b[0;31m     \u001b[0mflat_outputs\u001b[0m \u001b[0;34m=\u001b[0m \u001b[0mself\u001b[0m\u001b[0;34m.\u001b[0m\u001b[0mcall_flat\u001b[0m\u001b[0;34m(\u001b[0m\u001b[0;34m*\u001b[0m\u001b[0margs\u001b[0m\u001b[0;34m)\u001b[0m\u001b[0;34m\u001b[0m\u001b[0;34m\u001b[0m\u001b[0m\n\u001b[0m\u001b[1;32m    217\u001b[0m     \u001b[0;32mreturn\u001b[0m \u001b[0mself\u001b[0m\u001b[0;34m.\u001b[0m\u001b[0mfunction_type\u001b[0m\u001b[0;34m.\u001b[0m\u001b[0mpack_output\u001b[0m\u001b[0;34m(\u001b[0m\u001b[0mflat_outputs\u001b[0m\u001b[0;34m)\u001b[0m\u001b[0;34m\u001b[0m\u001b[0;34m\u001b[0m\u001b[0m\n\u001b[1;32m    218\u001b[0m \u001b[0;34m\u001b[0m\u001b[0m\n",
      "\u001b[0;32m/usr/local/lib/python3.10/dist-packages/tensorflow/python/eager/polymorphic_function/atomic_function.py\u001b[0m in \u001b[0;36mcall_flat\u001b[0;34m(self, *args)\u001b[0m\n\u001b[1;32m    249\u001b[0m         \u001b[0;32mwith\u001b[0m \u001b[0mrecord\u001b[0m\u001b[0;34m.\u001b[0m\u001b[0mstop_recording\u001b[0m\u001b[0;34m(\u001b[0m\u001b[0;34m)\u001b[0m\u001b[0;34m:\u001b[0m\u001b[0;34m\u001b[0m\u001b[0;34m\u001b[0m\u001b[0m\n\u001b[1;32m    250\u001b[0m           \u001b[0;32mif\u001b[0m \u001b[0mself\u001b[0m\u001b[0;34m.\u001b[0m\u001b[0m_bound_context\u001b[0m\u001b[0;34m.\u001b[0m\u001b[0mexecuting_eagerly\u001b[0m\u001b[0;34m(\u001b[0m\u001b[0;34m)\u001b[0m\u001b[0;34m:\u001b[0m\u001b[0;34m\u001b[0m\u001b[0;34m\u001b[0m\u001b[0m\n\u001b[0;32m--> 251\u001b[0;31m             outputs = self._bound_context.call_function(\n\u001b[0m\u001b[1;32m    252\u001b[0m                 \u001b[0mself\u001b[0m\u001b[0;34m.\u001b[0m\u001b[0mname\u001b[0m\u001b[0;34m,\u001b[0m\u001b[0;34m\u001b[0m\u001b[0;34m\u001b[0m\u001b[0m\n\u001b[1;32m    253\u001b[0m                 \u001b[0mlist\u001b[0m\u001b[0;34m(\u001b[0m\u001b[0margs\u001b[0m\u001b[0;34m)\u001b[0m\u001b[0;34m,\u001b[0m\u001b[0;34m\u001b[0m\u001b[0;34m\u001b[0m\u001b[0m\n",
      "\u001b[0;32m/usr/local/lib/python3.10/dist-packages/tensorflow/python/eager/context.py\u001b[0m in \u001b[0;36mcall_function\u001b[0;34m(self, name, tensor_inputs, num_outputs)\u001b[0m\n\u001b[1;32m   1550\u001b[0m     \u001b[0mcancellation_context\u001b[0m \u001b[0;34m=\u001b[0m \u001b[0mcancellation\u001b[0m\u001b[0;34m.\u001b[0m\u001b[0mcontext\u001b[0m\u001b[0;34m(\u001b[0m\u001b[0;34m)\u001b[0m\u001b[0;34m\u001b[0m\u001b[0;34m\u001b[0m\u001b[0m\n\u001b[1;32m   1551\u001b[0m     \u001b[0;32mif\u001b[0m \u001b[0mcancellation_context\u001b[0m \u001b[0;32mis\u001b[0m \u001b[0;32mNone\u001b[0m\u001b[0;34m:\u001b[0m\u001b[0;34m\u001b[0m\u001b[0;34m\u001b[0m\u001b[0m\n\u001b[0;32m-> 1552\u001b[0;31m       outputs = execute.execute(\n\u001b[0m\u001b[1;32m   1553\u001b[0m           \u001b[0mname\u001b[0m\u001b[0;34m.\u001b[0m\u001b[0mdecode\u001b[0m\u001b[0;34m(\u001b[0m\u001b[0;34m\"utf-8\"\u001b[0m\u001b[0;34m)\u001b[0m\u001b[0;34m,\u001b[0m\u001b[0;34m\u001b[0m\u001b[0;34m\u001b[0m\u001b[0m\n\u001b[1;32m   1554\u001b[0m           \u001b[0mnum_outputs\u001b[0m\u001b[0;34m=\u001b[0m\u001b[0mnum_outputs\u001b[0m\u001b[0;34m,\u001b[0m\u001b[0;34m\u001b[0m\u001b[0;34m\u001b[0m\u001b[0m\n",
      "\u001b[0;32m/usr/local/lib/python3.10/dist-packages/tensorflow/python/eager/execute.py\u001b[0m in \u001b[0;36mquick_execute\u001b[0;34m(op_name, num_outputs, inputs, attrs, ctx, name)\u001b[0m\n\u001b[1;32m     51\u001b[0m   \u001b[0;32mtry\u001b[0m\u001b[0;34m:\u001b[0m\u001b[0;34m\u001b[0m\u001b[0;34m\u001b[0m\u001b[0m\n\u001b[1;32m     52\u001b[0m     \u001b[0mctx\u001b[0m\u001b[0;34m.\u001b[0m\u001b[0mensure_initialized\u001b[0m\u001b[0;34m(\u001b[0m\u001b[0;34m)\u001b[0m\u001b[0;34m\u001b[0m\u001b[0;34m\u001b[0m\u001b[0m\n\u001b[0;32m---> 53\u001b[0;31m     tensors = pywrap_tfe.TFE_Py_Execute(ctx._handle, device_name, op_name,\n\u001b[0m\u001b[1;32m     54\u001b[0m                                         inputs, attrs, num_outputs)\n\u001b[1;32m     55\u001b[0m   \u001b[0;32mexcept\u001b[0m \u001b[0mcore\u001b[0m\u001b[0;34m.\u001b[0m\u001b[0m_NotOkStatusException\u001b[0m \u001b[0;32mas\u001b[0m \u001b[0me\u001b[0m\u001b[0;34m:\u001b[0m\u001b[0;34m\u001b[0m\u001b[0;34m\u001b[0m\u001b[0m\n",
      "\u001b[0;31mKeyboardInterrupt\u001b[0m: "
     ]
    }
   ],
   "source": [
    "class CustomLearningRateScheduler(Callback):\n",
    "    def __init__(self, new_lr, epoch_to_change):\n",
    "        super(CustomLearningRateScheduler, self).__init__()\n",
    "        self.new_lr = new_lr\n",
    "        self.epoch_to_change = epoch_to_change\n",
    "\n",
    "    def on_epoch_begin(self, epoch, logs=None):\n",
    "        if epoch == self.epoch_to_change:\n",
    "            tf.keras.backend.set_value(self.model.optimizer.learning_rate, self.new_lr)\n",
    "            print(f\"Learning rate changed to {self.new_lr} at epoch {epoch}\")\n",
    "\n",
    "lr_scheduler = CustomLearningRateScheduler(1e-5, 30)\n",
    "history = model.fit(train_dataset, epochs=config['Epochs'], validation_data=(valid_dataset), callbacks=[lr_scheduler])"
   ]
  },
  {
   "cell_type": "code",
   "execution_count": null,
   "metadata": {
    "execution": {
     "iopub.status.busy": "2025-03-30T14:46:15.263692Z",
     "iopub.status.idle": "2025-03-30T14:46:15.264128Z",
     "shell.execute_reply": "2025-03-30T14:46:15.263940Z"
    },
    "papermill": {
     "duration": 0.677887,
     "end_time": "2025-03-20T14:56:31.730198",
     "exception": false,
     "start_time": "2025-03-20T14:56:31.052311",
     "status": "completed"
    },
    "tags": [],
    "trusted": true
   },
   "outputs": [],
   "source": [
    "model.save(f\"{config['Seg_model']}_{config['Activation']}_{config['Dataset']}.keras\")"
   ]
  },
  {
   "cell_type": "markdown",
   "metadata": {
    "papermill": {
     "duration": 0.229598,
     "end_time": "2025-03-20T14:56:32.194820",
     "exception": false,
     "start_time": "2025-03-20T14:56:31.965222",
     "status": "completed"
    },
    "tags": []
   },
   "source": [
    "### **Desempeño del modelo**"
   ]
  },
  {
   "cell_type": "markdown",
   "metadata": {
    "papermill": {
     "duration": 0.23087,
     "end_time": "2025-03-20T14:56:32.658830",
     "exception": false,
     "start_time": "2025-03-20T14:56:32.427960",
     "status": "completed"
    },
    "tags": []
   },
   "source": [
    "#### **Visualización de las inferencias del modelo**"
   ]
  },
  {
   "cell_type": "code",
   "execution_count": null,
   "metadata": {
    "execution": {
     "iopub.status.busy": "2025-03-30T14:46:15.264903Z",
     "iopub.status.idle": "2025-03-30T14:46:15.265283Z",
     "shell.execute_reply": "2025-03-30T14:46:15.265099Z"
    },
    "id": "k-wPUQgYpPxb",
    "papermill": {
     "duration": 0.292795,
     "end_time": "2025-03-20T14:56:33.183471",
     "exception": false,
     "start_time": "2025-03-20T14:56:32.890676",
     "status": "completed"
    },
    "tags": [],
    "trusted": true
   },
   "outputs": [],
   "source": [
    "def performance_visualization(dataset, model, config):\n",
    "\n",
    "    # Select a random batch index\n",
    "    batch = 0\n",
    "\n",
    "    # Skip to the desired batch and take one batch\n",
    "    for images, masks in dataset.skip(batch).take(1):\n",
    "        print(f\"Images in the batch: {images.shape}, Masks in the batch: {masks.shape}\")\n",
    "\n",
    "    # Select a random sample within the batch\n",
    "    sample = random.randint(0, images.shape[0]-1)\n",
    "\n",
    "    predictions = model(images[sample:sample+1,...], training=False)\n",
    "\n",
    "    # Determine the number of columns for the visualization grid\n",
    "\n",
    "    columns = []\n",
    "    rows = 3\n",
    "\n",
    "    columns.append(masks.shape[-1] if masks.shape[-1] <= 6 else 6)\n",
    "    \n",
    "    columns = max(columns)\n",
    "\n",
    "    fig = plt.figure(figsize=(20, 12))\n",
    "    gs = fig.add_gridspec(rows + 1, columns, hspace=0.2, wspace=-0.6)\n",
    "    axes = [[fig.add_subplot(gs[r, c]) for c in range(columns)] for r in range(rows)]\n",
    "\n",
    "    # Display the original image for the selected sample\n",
    "    axes[0][0].set_title('Image',loc='center')\n",
    "    axes[0][0].imshow(images[sample])  # Show the sample image\n",
    "\n",
    "    title_ax = fig.add_subplot(gs[rows-2, :])\n",
    "    title_ax.set_title(\"Original masks of segmentation for different classes\",loc='center')\n",
    "    title_ax.axis('off')  # Ocultar ejes\n",
    "\n",
    "    classes_list = []\n",
    "    while len(classes_list) < min(config['Number of classes'],columns):\n",
    "        num = random.randint(0, config['Number of classes']-1)\n",
    "        if num not in classes_list:\n",
    "            classes_list.append(num)\n",
    "\n",
    "    for i in range(len(classes_list)):\n",
    "        axes[rows-2][i].imshow(masks[sample, :, :,classes_list[i]:classes_list[i]+1])\n",
    "\n",
    "    title_ax = fig.add_subplot(gs[rows-1, :])\n",
    "    title_ax.set_title(\"Predicted masks of segmentation for different classes\",loc='center')\n",
    "    title_ax.axis('off')  # Ocultar ejes\n",
    "\n",
    "    classes_list = []\n",
    "    while len(classes_list) < min(config['Number of classes'],columns):\n",
    "        num = random.randint(0, config['Number of classes']-1)\n",
    "        if num not in classes_list:\n",
    "            classes_list.append(num)\n",
    "\n",
    "    for i in range(len(classes_list)):\n",
    "        axes[rows-1][i].imshow(tf.where(predictions[0, :, :,classes_list[i]:classes_list[i]+1] >0.5, 1.0, 0.0))\n",
    "\n",
    "    [ax.axis('off') for row in axes for ax in row]\n",
    "\n",
    "    # Adjust layout for better spacing\n",
    "    fig.tight_layout()\n",
    "\n",
    "    # Display the visualization\n",
    "    plt.show()\n",
    "    # Free memory\n",
    "    del images, predictions, classes_list, masks# Delete large variables\n",
    "    gc.collect() # Force garbage collection"
   ]
  },
  {
   "cell_type": "code",
   "execution_count": null,
   "metadata": {
    "execution": {
     "iopub.status.busy": "2025-03-30T14:46:15.266100Z",
     "iopub.status.idle": "2025-03-30T14:46:15.266414Z",
     "shell.execute_reply": "2025-03-30T14:46:15.266291Z"
    },
    "id": "97sVjO0bpPxb",
    "papermill": {
     "duration": 2.356383,
     "end_time": "2025-03-20T14:56:35.777855",
     "exception": false,
     "start_time": "2025-03-20T14:56:33.421472",
     "status": "completed"
    },
    "tags": [],
    "trusted": true
   },
   "outputs": [],
   "source": [
    "performance_visualization(test_dataset, model, config)"
   ]
  },
  {
   "cell_type": "markdown",
   "metadata": {
    "papermill": {
     "duration": 0.234309,
     "end_time": "2025-03-20T14:56:36.252305",
     "exception": false,
     "start_time": "2025-03-20T14:56:36.017996",
     "status": "completed"
    },
    "tags": []
   },
   "source": [
    "#### **Rendimiento del modelo para datos de evaluación**"
   ]
  },
  {
   "cell_type": "code",
   "execution_count": null,
   "metadata": {
    "execution": {
     "iopub.status.busy": "2025-03-30T14:46:15.267614Z",
     "iopub.status.idle": "2025-03-30T14:46:15.267906Z",
     "shell.execute_reply": "2025-03-30T14:46:15.267783Z"
    },
    "papermill": {
     "duration": 0.319479,
     "end_time": "2025-03-20T14:56:36.817149",
     "exception": false,
     "start_time": "2025-03-20T14:56:36.497670",
     "status": "completed"
    },
    "tags": [],
    "trusted": true
   },
   "outputs": [],
   "source": [
    "def performance_measures(model,dataset,config,save_results=True):\n",
    "\n",
    "    with tf.device('/GPU:0' if tf.config.list_physical_devices('GPU') else '/CPU:0'):\n",
    "        # Initialize empty lists to store metric results\n",
    "        dice_results = []\n",
    "        jaccard_results = []\n",
    "        sensitivity_results = []\n",
    "        specificity_results = []\n",
    "\n",
    "        # Process each batch in the dataset\n",
    "        for data_batch in dataset:\n",
    "            images, masks = data_batch\n",
    "\n",
    "            # Generate model predictions\n",
    "            y_pred = model(images, training=False)\n",
    "\n",
    "            # Assume the model's prediction covers all classes\n",
    "            y_pred_class = y_pred[...,:config['Number of classes']]\n",
    "            dice_batch = dice_metric(masks, y_pred_class, return_mean=False)\n",
    "            jaccard_batch = jaccard_metric(masks, y_pred_class, return_mean=False)\n",
    "            sensitivity_batch = sensitivity_metric(masks, y_pred_class, return_mean=False)\n",
    "            specificity_batch = specificity_metric(masks, y_pred_class, return_mean=False)\n",
    "            \n",
    "            # Store results from the current batch\n",
    "            dice_results.append(dice_batch.numpy().flatten())\n",
    "            jaccard_results.append(jaccard_batch.numpy().flatten())\n",
    "            sensitivity_results.append(sensitivity_batch.numpy().flatten())\n",
    "            specificity_results.append(specificity_batch.numpy().flatten())\n",
    "\n",
    "            # Free memory by deleting unnecessary tensors immediately\n",
    "            del y_pred, y_pred_class, dice_batch, jaccard_batch, sensitivity_batch, specificity_batch, images, masks\n",
    "\n",
    "        # Convert lists of batches to flat NumPy arrays for analysis\n",
    "        dice_results = np.concatenate(dice_results)\n",
    "        jaccard_results = np.concatenate(jaccard_results)\n",
    "        sensitivity_results = np.concatenate(sensitivity_results)\n",
    "        specificity_results = np.concatenate(specificity_results)\n",
    "\n",
    "        # Print performance summaries with 5 decimal places precision\n",
    "        print(\"Model's performance metrics:\")\n",
    "        print(f\"Dice Coefficient mean: {np.mean(dice_results):.5f}, standard deviation: {np.std(dice_results):.5f}\")\n",
    "        print(f\"Jaccard Index mean: {np.mean(jaccard_results):.5f}, standard deviation: {np.std(jaccard_results):.5f}\")\n",
    "        print(f\"Sensitivity mean: {np.mean(sensitivity_results):.5f}, standard deviation: {np.std(sensitivity_results):.5f}\")\n",
    "        print(f\"Specificity mean: {np.mean(specificity_results):.5f}, standard deviation: {np.std(specificity_results):.5f}\")\n",
    "\n",
    "        # Save results to disk if requested\n",
    "        if save_results:\n",
    "            # Check if the directory exists, and if not, create it\n",
    "            if not os.path.exists('./results'):\n",
    "                os.makedirs('./results')\n",
    "\n",
    "            # Generate filenames using the configuration parameters\n",
    "            filename_base = f\"./results/{config['Seg_model']}_{config['Activation']}_{config['Dataset']}\"\n",
    "            np.save(f\"{filename_base}_DICE.npy\", dice_results)\n",
    "            np.save(f\"{filename_base}_Jaccard.npy\", jaccard_results)\n",
    "            np.save(f\"{filename_base}_Sensitivity.npy\", sensitivity_results)\n",
    "            np.save(f\"{filename_base}_Specificity.npy\", specificity_results)\n",
    "\n",
    "        # Cleanup intermediate results to free memory\n",
    "        gc.collect()\n",
    "        del dice_results, jaccard_results, sensitivity_results, specificity_results\n",
    "        return [f\"{filename_base}_DICE.npy\", f\"{filename_base}_Jaccard.npy\", f\"{filename_base}_Sensitivity.npy\", f\"{filename_base}_Specificity.npy\"]\n"
   ]
  },
  {
   "cell_type": "code",
   "execution_count": null,
   "metadata": {
    "execution": {
     "iopub.status.busy": "2025-03-30T14:46:15.268861Z",
     "iopub.status.idle": "2025-03-30T14:46:15.269180Z",
     "shell.execute_reply": "2025-03-30T14:46:15.269064Z"
    },
    "id": "Uo9OgvMDpPxb",
    "papermill": {
     "duration": 9.493565,
     "end_time": "2025-03-20T14:56:46.549909",
     "exception": false,
     "start_time": "2025-03-20T14:56:37.056344",
     "status": "completed"
    },
    "tags": [],
    "trusted": true
   },
   "outputs": [],
   "source": [
    "metrics = performance_measures(model,test_dataset,config,save_results=True)"
   ]
  }
 ],
 "metadata": {
  "accelerator": "GPU",
  "colab": {
   "gpuType": "L4",
   "machine_shape": "hm",
   "provenance": []
  },
  "kaggle": {
   "accelerator": "nvidiaTeslaT4",
   "dataSources": [],
   "dockerImageVersionId": 30919,
   "isGpuEnabled": true,
   "isInternetEnabled": true,
   "language": "python",
   "sourceType": "notebook"
  },
  "kernelspec": {
   "display_name": "Python 3",
   "language": "python",
   "name": "python3"
  },
  "language_info": {
   "codemirror_mode": {
    "name": "ipython",
    "version": 3
   },
   "file_extension": ".py",
   "mimetype": "text/x-python",
   "name": "python",
   "nbconvert_exporter": "python",
   "pygments_lexer": "ipython3",
   "version": "3.10.12"
  },
  "papermill": {
   "default_parameters": {},
   "duration": 4162.498079,
   "end_time": "2025-03-20T14:56:50.334205",
   "environment_variables": {},
   "exception": null,
   "input_path": "__notebook__.ipynb",
   "output_path": "__notebook__.ipynb",
   "parameters": {},
   "start_time": "2025-03-20T13:47:27.836126",
   "version": "2.6.0"
  }
 },
 "nbformat": 4,
 "nbformat_minor": 4
}
